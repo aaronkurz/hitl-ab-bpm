{
 "cells": [
  {
   "cell_type": "code",
   "execution_count": 16,
   "id": "c0fd2d01",
   "metadata": {},
   "outputs": [],
   "source": [
    "from vowpalwabbit import pyvw\n",
    "import random\n",
    "import matplotlib.pyplot as plt"
   ]
  },
  {
   "cell_type": "code",
   "execution_count": 35,
   "id": "502a944f",
   "metadata": {},
   "outputs": [],
   "source": [
    "# VW tries to minimize loss/cost, therefore we will pass cost as -reward\n",
    "USER_LIKED_ARTICLE = 1.0\n",
    "USER_DISLIKED_ARTICLE = 0.0\n",
    "\n",
    "def get_reward(context,action):\n",
    "    if action == 'A':\n",
    "        return USER_LIKED_ARTICLE\n",
    "    else:\n",
    "        return USER_DISLIKED_ARTICLE\n",
    "\n",
    "        \n",
    "        \n",
    "\n",
    "# This function modifies (context, action, cost, probability) to VW friendly format\n",
    "def to_vw_example_format(context, actions, cb_label = None):\n",
    "    if cb_label is not None:\n",
    "        chosen_action, cost, prob = cb_label\n",
    "    example_string = \"\"\n",
    "    #example_string += \"shared |Orga orga={} Cost_profile={}\\n\".format(context[\"orga\"], context[\"cost_profile\"])\n",
    "    example_string += \"shared |Orga orga={}\\n\".format(context[\"orga\"])\n",
    "    for action in actions:\n",
    "        if cb_label is not None and action == chosen_action:\n",
    "            example_string += \"0:{}:{} \".format(cost, prob)\n",
    "        example_string += \"|Action variant={} \\n\".format(action)\n",
    "    #Strip the last newline\n",
    "    return example_string[:-1]"
   ]
  },
  {
   "cell_type": "code",
   "execution_count": 18,
   "id": "75f71eab",
   "metadata": {},
   "outputs": [
    {
     "name": "stdout",
     "output_type": "stream",
     "text": [
      "shared |Orga orga=gov\n",
      "|Action variant=A \n",
      "|Action variant=B \n"
     ]
    }
   ],
   "source": [
    "context = {\"orga\":\"gov\"}\n",
    "actions = [\"A\", \"B\"]\n",
    "\n",
    "print(to_vw_example_format(context,actions))"
   ]
  },
  {
   "cell_type": "code",
   "execution_count": 19,
   "id": "022e973f",
   "metadata": {},
   "outputs": [],
   "source": [
    "def sample_custom_pmf(pmf):\n",
    "    total = sum(pmf)\n",
    "    scale = 1 / total\n",
    "    pmf = [x * scale for x in pmf]\n",
    "    draw = random.random()\n",
    "    sum_prob = 0.0\n",
    "    for index, prob in enumerate(pmf):\n",
    "        sum_prob += prob\n",
    "        if(sum_prob > draw):\n",
    "            return index, prob\n",
    "        \n",
    "        \n",
    "def get_action(vw, context, actions):\n",
    "    vw_text_example = to_vw_example_format(context,actions)\n",
    "    pmf = vw.predict(vw_text_example)\n",
    "    chosen_action_index, prob = sample_custom_pmf(pmf)\n",
    "    return actions[chosen_action_index], prob"
   ]
  },
  {
   "cell_type": "code",
   "execution_count": 27,
   "id": "7b1660ff",
   "metadata": {},
   "outputs": [],
   "source": [
    "################### Don't use ###################\n",
    "orgas = ['gov', 'public']\n",
    "#cost_profiles = ['relevant', 'irrelevant']\n",
    "actions = [\"A\", \"B\"]\n",
    "\n",
    "def choose_orga(self, orgas):\n",
    "    return random.choice(orgas)\n",
    "\n",
    "#def choose_cost_profile(cost_profiles):\n",
    "#    return random.choice(times_of_day)\n",
    "\n",
    "def generate_input_data(self):\n",
    "    # start simulation \n",
    "    return\n"
   ]
  },
  {
   "cell_type": "code",
   "execution_count": 45,
   "id": "ee58b011",
   "metadata": {},
   "outputs": [],
   "source": [
    "def run_simulation(vw, num_iterations, orgas, actions, reward_function, do_learn = True):\n",
    "    reward_sum = 0.\n",
    "    acc_reward = []\n",
    "\n",
    "    for i in range(1, num_iterations+1):\n",
    "        # 1. In each simulation choose a user\n",
    "        organisation = choose_orga(orgas)\n",
    "        # 2. Choose time of day for a given user\n",
    "        # Do not use for now\n",
    "        #time_of_day = choose_time_of_day(times_of_day)\n",
    "\n",
    "        # 3. Pass context to vw to get an action\n",
    "        #context = {'orga': user, 'cost_profile': time_of_day}\n",
    "        context = {'orga': organisation}\n",
    "        action, prob = get_action(vw, context, actions)\n",
    "\n",
    "        # 4. Get reward of the action we chose\n",
    "        reward = reward_function(context, action)\n",
    "        reward_sum += reward\n",
    "\n",
    "        if do_learn:\n",
    "            # 5. Inform VW of what happened so we can learn from it\n",
    "            vw_format = vw.parse(to_vw_example_format(context, actions, (action, reward, prob)),pyvw.vw.lContextualBandit)\n",
    "            # 6. Learn\n",
    "            vw.learn(vw_format)\n",
    "            # 7. Let VW know you're done with these objects\n",
    "            vw.finish_example(vw_format)\n",
    "\n",
    "        # We negate this so that on the plot instead of minimizing cost, we are maximizing reward\n",
    "        acc_reward.append(reward_sum/i)\n",
    "\n",
    "    return acc_reward\n",
    "\n",
    "def plot_ctr(num_iterations, acc_reward):\n",
    "    plt.plot(range(1,num_iterations+1), ctr)\n",
    "    plt.xlabel('num_iterations', fontsize=14)\n",
    "    plt.ylabel('ctr', fontsize=14)\n",
    "    plt.ylim([0,1])"
   ]
  },
  {
   "cell_type": "code",
   "execution_count": 46,
   "id": "f5dcb97d",
   "metadata": {},
   "outputs": [
    {
     "data": {
      "image/png": "[encoded data removed]",
      "text/plain": [
       "<Figure size 432x288 with 1 Axes>"
      ]
     },
     "metadata": {
      "needs_background": "light"
     },
     "output_type": "display_data"
    }
   ],
   "source": [
    "# Instantiate learner in VW\n",
    "vw = pyvw.vw(\"--cb_explore_adf -q UA --quiet --epsilon 0.2\")\n",
    "\n",
    "num_iterations = 5000\n",
    "ctr = run_simulation(vw, num_iterations, orgas, actions, get_reward)\n",
    "\n",
    "plot_ctr(num_iterations, ctr)"
   ]
  }
 ],
 "metadata": {
  "kernelspec": {
   "display_name": "Python 3",
   "language": "python",
   "name": "python3"
  },
  "language_info": {
   "codemirror_mode": {
    "name": "ipython",
    "version": 3
   },
   "file_extension": ".py",
   "mimetype": "text/x-python",
   "name": "python",
   "nbconvert_exporter": "python",
   "pygments_lexer": "ipython3",
   "version": "3.8.8"
  }
 },
 "nbformat": 4,
 "nbformat_minor": 5
}
