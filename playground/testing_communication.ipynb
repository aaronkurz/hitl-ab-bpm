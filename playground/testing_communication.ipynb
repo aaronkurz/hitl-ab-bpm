{
 "cells": [
  {
   "cell_type": "code",
   "execution_count": 1,
   "id": "22661595",
   "metadata": {},
   "outputs": [],
   "source": [
    "import sys\n",
    "import pandas as pd\n",
    "import numpy as np\n",
    "from matplotlib import pyplot as plt\n",
    "\n",
    "sys.path.append('../source/backend/camunda/')\n",
    "\n",
    "#from client import CamundaClient\n",
    "\n",
    "#client = CamundaClient('http://localhost:8080/engine-rest')\n",
    "\n",
    "#client.status_code_successful(2)\n",
    "\n",
    "#process_id = client.deploy_process('../source/backend/resources/bpmn/helicopter_license/helicopter_vA.bpmn')"
   ]
  },
  {
   "cell_type": "code",
   "execution_count": 5,
   "id": "bb2e4268",
   "metadata": {},
   "outputs": [
    {
     "data": {
      "image/png": "[encoded data removed]",
      "text/plain": [
       "<Figure size 432x288 with 1 Axes>"
      ]
     },
     "metadata": {
      "needs_background": "light"
     },
     "output_type": "display_data"
    }
   ],
   "source": [
    "df = pd.read_csv('../source/backend/rl_agent/results/rewards_2.csv')\n",
    "df\n",
    "\n",
    "plt.plot(range(1, 21), df['Acc_Reward'])\n",
    "plt.xlabel('num_iterations', fontsize=14)\n",
    "plt.ylabel('mean_reward', fontsize=14)\n",
    "\n",
    "plt.savefig('../source/backend/rl_agent/results/reward_plot_2.pdf')"
   ]
  },
  {
   "cell_type": "code",
   "execution_count": 29,
   "id": "fe9e41ea",
   "metadata": {},
   "outputs": [],
   "source": [
    "client.start_instance(process_id)"
   ]
  },
  {
   "cell_type": "code",
   "execution_count": 30,
   "id": "b1f73d28",
   "metadata": {},
   "outputs": [],
   "source": [
    "data = client.retrieve_data()"
   ]
  },
  {
   "cell_type": "code",
   "execution_count": 31,
   "id": "4c8bd0a1",
   "metadata": {},
   "outputs": [
    {
     "name": "stdout",
     "output_type": "stream",
     "text": [
      "[{'processDefinitionId': 'Process_1cl94bg:1:438c454e-5b75-11ec-a43b-0242ac130002', 'processDefinitionKey': 'Process_1cl94bg', 'processDefinitionName': 'helicopter_vA', 'processDefinitionVersion': 1, 'historyTimeToLive': None, 'finishedProcessInstanceCount': 0, 'cleanableProcessInstanceCount': 0, 'tenantId': None, 'associated_instances': [{'id': '4462f54b-5b75-11ec-a43b-0242ac130002', 'businessKey': None, 'processDefinitionId': 'Process_1cl94bg:1:438c454e-5b75-11ec-a43b-0242ac130002', 'processDefinitionKey': 'Process_1cl94bg', 'processDefinitionName': 'helicopter_vA', 'processDefinitionVersion': 1, 'startTime': '2021-12-12T17:59:35.828+0000', 'endTime': None, 'removalTime': None, 'durationInMillis': None, 'startUserId': None, 'startActivityId': 'StartEvent_1', 'deleteReason': None, 'rootProcessInstanceId': '4462f54b-5b75-11ec-a43b-0242ac130002', 'superProcessInstanceId': None, 'superCaseInstanceId': None, 'caseInstanceId': None, 'tenantId': None, 'state': 'ACTIVE'}]}]\n"
     ]
    }
   ],
   "source": [
    "print(data)"
   ]
  },
  {
   "cell_type": "code",
   "execution_count": 29,
   "id": "2b10bd8f",
   "metadata": {},
   "outputs": [],
   "source": [
    "client.clean_process_data()"
   ]
  },
  {
   "cell_type": "code",
   "execution_count": 13,
   "id": "574a65b5",
   "metadata": {},
   "outputs": [
    {
     "ename": "TypeError",
     "evalue": "_percentile_dispatcher() missing 2 required positional arguments: 'a' and 'q'",
     "output_type": "error",
     "traceback": [
      "\u001b[0;31m---------------------------------------------------------------------------\u001b[0m",
      "\u001b[0;31mTypeError\u001b[0m                                 Traceback (most recent call last)",
      "\u001b[0;32m<ipython-input-13-6a0012b8ea8f>\u001b[0m in \u001b[0;36m<module>\u001b[0;34m\u001b[0m\n\u001b[1;32m      2\u001b[0m \u001b[0;32mimport\u001b[0m \u001b[0mnumpy\u001b[0m \u001b[0;32mas\u001b[0m \u001b[0mnp\u001b[0m\u001b[0;34m\u001b[0m\u001b[0;34m\u001b[0m\u001b[0m\n\u001b[1;32m      3\u001b[0m \u001b[0;34m\u001b[0m\u001b[0m\n\u001b[0;32m----> 4\u001b[0;31m \u001b[0mnp\u001b[0m\u001b[0;34m.\u001b[0m\u001b[0mpercentile\u001b[0m\u001b[0;34m(\u001b[0m\u001b[0;34m)\u001b[0m\u001b[0;34m\u001b[0m\u001b[0;34m\u001b[0m\u001b[0m\n\u001b[0m\u001b[1;32m      5\u001b[0m \u001b[0;34m\u001b[0m\u001b[0m\n",
      "\u001b[0;32m<__array_function__ internals>\u001b[0m in \u001b[0;36mpercentile\u001b[0;34m(*args, **kwargs)\u001b[0m\n",
      "\u001b[0;31mTypeError\u001b[0m: _percentile_dispatcher() missing 2 required positional arguments: 'a' and 'q'"
     ]
    }
   ],
   "source": [
    "import pandas as pd\n",
    "import numpy as np\n",
    "\n",
    "np.percentile()\n",
    "\n"
   ]
  }
 ],
 "metadata": {
  "kernelspec": {
   "display_name": "Python 3",
   "language": "python",
   "name": "python3"
  },
  "language_info": {
   "codemirror_mode": {
    "name": "ipython",
    "version": 3
   },
   "file_extension": ".py",
   "mimetype": "text/x-python",
   "name": "python",
   "nbconvert_exporter": "python",
   "pygments_lexer": "ipython3",
   "version": "3.8.8"
  }
 },
 "nbformat": 4,
 "nbformat_minor": 5
}
