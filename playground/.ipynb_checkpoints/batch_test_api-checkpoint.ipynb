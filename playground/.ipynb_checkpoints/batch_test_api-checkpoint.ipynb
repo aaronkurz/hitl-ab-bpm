{
 "cells": [
  {
   "cell_type": "code",
   "execution_count": 1,
   "id": "6e1a0b56",
   "metadata": {},
   "outputs": [],
   "source": [
    "# Imports and global variables\n",
    "import requests\n",
    "import json\n",
    "import pandas\n",
    "from dateutil import parser\n",
    "\n",
    "BASE_URL = \"http://localhost:8080/engine-rest\""
   ]
  },
  {
   "cell_type": "code",
   "execution_count": null,
   "id": "8602eaaa",
   "metadata": {},
   "outputs": [],
   "source": [
    "# CLEANUP\n",
    "# delete all process definitions and running instances\n",
    "# ! we need to delete all the running instances first\n",
    "\n",
    "def status_code_successful(status_code: int):\n",
    "    return str(status_code)[0] == '2'\n",
    "\n",
    "\n",
    "def delete_all_data(target: str):\n",
    "    POSSIBLE_TARGETS = [\"process-instance\", \"process-definition\", \"deployment\", \"decision-definition\"]\n",
    "    if target not in POSSIBLE_TARGETS:\n",
    "        raise Exception(str(target) + \"not a valid data deletion target\")\n",
    "        \n",
    "    get_response = requests.get(BASE_URL + \"/\" + target)\n",
    "    assert(status_code_successful(get_response.status_code))\n",
    "    #print(json.dumps(get_response.json(), indent=2))\n",
    "\n",
    "    for elem in get_response.json():\n",
    "        current_id = elem.get('id')\n",
    "        del_response = requests.delete(BASE_URL + \"/\" + target + \"/\" + str(current_id))\n",
    "        #print(del_response)\n",
    "        assert(status_code_successful(del_response.status_code))\n",
    "\n",
    "    \n",
    "    get_response = requests.get(BASE_URL + \"/\" + target)\n",
    "    assert(status_code_successful(get_response.status_code))\n",
    "    assert(len(get_response.json()) == 0)   \n",
    "\n",
    "    \n",
    "for elem in [\"process-instance\", \"process-definition\", \"deployment\", \"decision-definition\"]:\n",
    "    delete_all_data(elem)\n",
    "\n"
   ]
  },
  {
   "cell_type": "code",
   "execution_count": null,
   "id": "55f00976",
   "metadata": {},
   "outputs": [],
   "source": [
    "# deploy ONE example process \n",
    "# TODO: extent for multiple\n",
    "\n",
    "multipart_form_data = { \n",
    "    'deployment-name': (None, 'store'),\n",
    "    'data': ('food_testing_2.bpmn', open('food_testing_2.bpmn', 'r')),\n",
    "}\n",
    "\n",
    "response = requests.post(BASE_URL + \"/deployment/create\", files=multipart_form_data)\n",
    "assert(status_code_successful(response.status_code))\n",
    "\n",
    "#print(json.dumps(response.json(), indent=2))\n",
    "for elem in response.json().get('deployedProcessDefinitions'):\n",
    "    new_process_id = elem\n",
    "\n",
    "print(new_process_id)"
   ]
  },
  {
   "cell_type": "code",
   "execution_count": null,
   "id": "0ed17e4d",
   "metadata": {},
   "outputs": [],
   "source": [
    "# start batch of instances\n",
    "for x in range(10):\n",
    "    headers = {'Content-Type': 'application/json'}\n",
    "    response = requests.post(\"http://localhost:8080/engine-rest/process-definition/\" + str(new_process_id)+ \"/start\", headers=headers)\n",
    "    #print(json.dumps(response.json(), indent=2))\n",
    "    assert(status_code_successful(response.status_code))\n",
    "\n"
   ]
  },
  {
   "cell_type": "code",
   "execution_count": null,
   "id": "f78b9529",
   "metadata": {},
   "outputs": [],
   "source": [
    "# poll history service\n",
    "# calculate durations of process instances by process definition\n",
    "\n",
    "proc_def_response = requests.get(BASE_URL + \"/history/process-definition/cleanable-process-instance-report\")\n",
    "assert(status_code_successful(proc_def_response.status_code))\n",
    "#print(json.dumps(proc_def_response.json(), indent=2))\n",
    "\n",
    "historic_df = pandas.DataFrame(columns=['processDefinitionId', 'processDefinitionKey', 'processDefinitionName', 'Duration'])\n",
    "\n",
    "\n",
    "for elem in proc_def_response.json():\n",
    "    processDefinitionId = elem.get('processDefinitionId')\n",
    "    processDefinitionKey = elem.get('processDefinitionKey')\n",
    "    processDefinitionName = elem.get('processDefinitionName')\n",
    "    params = {'processDefinitionId': str(processDefinitionId)}\n",
    "    proc_inst_response = requests.get(BASE_URL + \"/history/process-instance\", params=params)\n",
    "    assert(status_code_successful(proc_inst_response.status_code))\n",
    "    for elem2 in proc_inst_response.json():\n",
    "        end_datetime = parser.parse(elem2.get('endTime'))\n",
    "        start_datetime = parser.parse(elem2.get('startTime'))\n",
    "        duration = (end_datetime - start_datetime)\n",
    "        historic_df.loc[len(historic_df)] = [processDefinitionId, processDefinitionKey, processDefinitionName, duration]\n",
    "\n",
    "print(historic_df)\n",
    "# Calculate mean of duration of all instances\n",
    "print(\"Mean: \" + str((historic_df.Duration.mean())))"
   ]
  },
  {
   "cell_type": "code",
   "execution_count": null,
   "id": "d8a8289f",
   "metadata": {},
   "outputs": [],
   "source": [
    "# TODO\n",
    "# next steps:\n",
    "# create Instance Router\n",
    "# put api calls into methods\n",
    "# find a way to check if all instances have been terminated.\n",
    "# retrieve data and store it in a log file (in preparation for the rl env)"
   ]
  }
 ],
 "metadata": {
  "kernelspec": {
   "display_name": "Python 3",
   "language": "python",
   "name": "python3"
  },
  "language_info": {
   "codemirror_mode": {
    "name": "ipython",
    "version": 3
   },
   "file_extension": ".py",
   "mimetype": "text/x-python",
   "name": "python",
   "nbconvert_exporter": "python",
   "pygments_lexer": "ipython3",
   "version": "3.8.8"
  }
 },
 "nbformat": 4,
 "nbformat_minor": 5
}
