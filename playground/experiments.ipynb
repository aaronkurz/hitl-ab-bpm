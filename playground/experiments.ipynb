{
 "cells": [
  {
   "cell_type": "code",
   "execution_count": 1,
   "metadata": {},
   "outputs": [],
   "source": [
    "# Imports and global variables\n",
    "import requests\n",
    "import json\n",
    "import pandas\n",
    "from dateutil import parser\n",
    "\n",
    "BASE_URL = \"http://localhost:8080/engine-rest\""
   ]
  },
  {
   "cell_type": "code",
   "execution_count": 2,
   "metadata": {},
   "outputs": [],
   "source": [
    "# CLEANUP\n",
    "# delete all process definitions and running instances\n",
    "# ! we need to delete all the running instances first\n",
    "\n",
    "def status_code_successful(status_code: int):\n",
    "    return str(status_code)[0] == '2'\n",
    "\n",
    "\n",
    "def delete_all_data(target: str):\n",
    "    POSSIBLE_TARGETS = [\"process-instance\", \"process-definition\", \"deployment\", \"decision-definition\"]\n",
    "    if target not in POSSIBLE_TARGETS:\n",
    "        raise Exception(str(target) + \"not a valid data deletion target\")\n",
    "        \n",
    "    get_response = requests.get(BASE_URL + \"/\" + target)\n",
    "    assert(status_code_successful(get_response.status_code))\n",
    "    #print(json.dumps(get_response.json(), indent=2))\n",
    "\n",
    "    for elem in get_response.json():\n",
    "        current_id = elem.get('id')\n",
    "        del_response = requests.delete(BASE_URL + \"/\" + target + \"/\" + str(current_id))\n",
    "        #print(del_response)\n",
    "        assert(status_code_successful(del_response.status_code))\n",
    "\n",
    "    \n",
    "    get_response = requests.get(BASE_URL + \"/\" + target)\n",
    "    assert(status_code_successful(get_response.status_code))\n",
    "    assert(len(get_response.json()) == 0)   \n",
    "\n",
    "    \n",
    "for elem in [\"process-instance\", \"process-definition\", \"deployment\", \"decision-definition\"]:\n",
    "    delete_all_data(elem)\n"
   ]
  },
  {
   "cell_type": "code",
   "execution_count": 9,
   "metadata": {},
   "outputs": [
    {
     "name": "stdout",
     "output_type": "stream",
     "text": [
      "food_testing_2:7:c9bf459e-6721-11ec-9f01-0242ac120004\n"
     ]
    }
   ],
   "source": [
    "# deploy ONE example process instance\n",
    "# TODO: extent for multiple\n",
    "\n",
    "multipart_form_data = { \n",
    "    'deployment-name': (None, 'store'),\n",
    "    'data': ('food_testing_2.bpmn', open('food_testing_2.bpmn', 'r')),\n",
    "}\n",
    "\n",
    "response = requests.post(BASE_URL + \"/deployment/create\", files=multipart_form_data)\n",
    "assert(status_code_successful(response.status_code))\n",
    "\n",
    "#print(json.dumps(response.json(), indent=2))\n",
    "for elem in response.json().get('deployedProcessDefinitions'):\n",
    "    new_process_id = elem\n",
    "\n",
    "print(new_process_id)"
   ]
  },
  {
   "cell_type": "code",
   "execution_count": 98,
   "metadata": {},
   "outputs": [],
   "source": [
    "# start instance\n",
    "for x in range(10):\n",
    "    headers = {'Content-Type': 'application/json'}\n",
    "    response = requests.post(\"http://localhost:8080/engine-rest/process-definition/\" + str(new_process_id)+ \"/start\", headers=headers)\n",
    "    #print(json.dumps(response.json(), indent=2))\n",
    "    assert(status_code_successful(response.status_code))\n"
   ]
  },
  {
   "cell_type": "code",
   "execution_count": 10,
   "metadata": {},
   "outputs": [
    {
     "name": "stdout",
     "output_type": "stream",
     "text": [
      "<Response [204]>\n"
     ]
    }
   ],
   "source": [
    "# get task and finish it\n",
    "params = {\n",
    "    'processDefinitionId': str(new_process_id)\n",
    "    #'active': \"true\"\n",
    "}\n",
    "headers = {'Content-Type': 'application/json'}\n",
    "response = requests.get(BASE_URL + \"/task\")\n",
    "#print(json.dumps(response.json(), indent=2))\n",
    "assert(status_code_successful(response.status_code))\n",
    "\n",
    "for elem in response.json():\n",
    "    task_id = elem.get('id')\n",
    "    response = requests.post(BASE_URL + \"/task/\" + str(task_id) + \"/complete\", headers=headers)\n",
    "    print(response)\n",
    "    assert(status_code_successful(response.status_code))\n"
   ]
  },
  {
   "cell_type": "code",
   "execution_count": 95,
   "metadata": {},
   "outputs": [
    {
     "name": "stdout",
     "output_type": "stream",
     "text": [
      "                                 processDefinitionId processDefinitionKey  \\\n",
      "0  food_testing_2:1:d60fb8ff-4a56-11ec-8c57-7e573...       food_testing_2   \n",
      "1  food_testing_2:1:d60fb8ff-4a56-11ec-8c57-7e573...       food_testing_2   \n",
      "2  food_testing_2:1:d60fb8ff-4a56-11ec-8c57-7e573...       food_testing_2   \n",
      "3  food_testing_2:1:d60fb8ff-4a56-11ec-8c57-7e573...       food_testing_2   \n",
      "4  food_testing_2:1:d60fb8ff-4a56-11ec-8c57-7e573...       food_testing_2   \n",
      "5  food_testing_2:1:d60fb8ff-4a56-11ec-8c57-7e573...       food_testing_2   \n",
      "6  food_testing_2:1:d60fb8ff-4a56-11ec-8c57-7e573...       food_testing_2   \n",
      "7  food_testing_2:1:d60fb8ff-4a56-11ec-8c57-7e573...       food_testing_2   \n",
      "8  food_testing_2:1:d60fb8ff-4a56-11ec-8c57-7e573...       food_testing_2   \n",
      "9  food_testing_2:1:d60fb8ff-4a56-11ec-8c57-7e573...       food_testing_2   \n",
      "\n",
      "  processDefinitionName               Duration  \n",
      "0             Make food 0 days 00:03:17.496000  \n",
      "1             Make food 0 days 00:03:17.436000  \n",
      "2             Make food 0 days 00:07:07.646000  \n",
      "3             Make food 0 days 00:03:52.480000  \n",
      "4             Make food 0 days 00:03:52.469000  \n",
      "5             Make food 0 days 00:06:52.592000  \n",
      "6             Make food 0 days 00:05:37.548000  \n",
      "7             Make food 0 days 00:03:17.397000  \n",
      "8             Make food 0 days 00:04:22.487000  \n",
      "9             Make food 0 days 00:04:22.479000  \n",
      "Mean: 0 days 00:04:36.003000\n"
     ]
    }
   ],
   "source": [
    "# poll history service\n",
    "# calculate durations of process instances by process definition\n",
    "\n",
    "proc_def_response = requests.get(BASE_URL + \"/history/process-definition/cleanable-process-instance-report\")\n",
    "assert(status_code_successful(proc_def_response.status_code))\n",
    "#print(json.dumps(proc_def_response.json(), indent=2))\n",
    "\n",
    "historic_df = pandas.DataFrame(columns=['processDefinitionId', 'processDefinitionKey', 'processDefinitionName', 'Duration'])\n",
    "\n",
    "\n",
    "for elem in proc_def_response.json():\n",
    "    processDefinitionId = elem.get('processDefinitionId')\n",
    "    processDefinitionKey = elem.get('processDefinitionKey')\n",
    "    processDefinitionName = elem.get('processDefinitionName')\n",
    "    params = {'processDefinitionId': str(processDefinitionId)}\n",
    "    proc_inst_response = requests.get(BASE_URL + \"/history/process-instance\", params=params)\n",
    "    assert(status_code_successful(proc_inst_response.status_code))\n",
    "    for elem2 in proc_inst_response.json():\n",
    "        end_datetime = parser.parse(elem2.get('endTime'))\n",
    "        start_datetime = parser.parse(elem2.get('startTime'))\n",
    "        duration = (end_datetime - start_datetime)\n",
    "        historic_df.loc[len(historic_df)] = [processDefinitionId, processDefinitionKey, processDefinitionName, duration]\n",
    "\n",
    "print(historic_df)\n",
    "print(\"Mean: \" + str((historic_df.Duration.mean())))"
   ]
  },
  {
   "cell_type": "code",
   "execution_count": null,
   "metadata": {},
   "outputs": [],
   "source": [
    "# TODO\n",
    "# next steps:\n",
    "# create automatically running bp\n",
    "# start it from here\n",
    "# poll history service about it (to calculate rewards)"
   ]
  }
 ],
 "metadata": {
  "interpreter": {
   "hash": "7fd69202ecabc8db15f79459734b97164420183965d5b803907b72f13dd3b941"
  },
  "kernelspec": {
   "display_name": "Python 3",
   "language": "python",
   "name": "python3"
  },
  "language_info": {
   "codemirror_mode": {
    "name": "ipython",
    "version": 3
   },
   "file_extension": ".py",
   "mimetype": "text/x-python",
   "name": "python",
   "nbconvert_exporter": "python",
   "pygments_lexer": "ipython3",
   "version": "3.8.8"
  }
 },
 "nbformat": 4,
 "nbformat_minor": 2
}